{
 "cells": [
  {
   "cell_type": "markdown",
   "metadata": {},
   "source": [
    "# LSTM网络"
   ]
  },
  {
   "cell_type": "markdown",
   "metadata": {},
   "source": [
    "LSTM(long short term memory)网络是一种RNN，用于解决RNN缺乏的长程记忆能力，关于LSTM原理可以参考[Understanding LSTM Network](http://colah.github.io/posts/2015-08-Understanding-LSTMs/)\n",
    "\n",
    "TensorFlow中的库(api 1.3)：\n",
    "\n",
    "[tf.nn.rnn_cell.BasicLSTMCell](https://www.tensorflow.org/api_docs/python/tf/contrib/rnn/BasicLSTMCell)\n",
    "\n",
    "[tf.nn.dynamic_rnn](https://www.tensorflow.org/api_docs/python/tf/nn/dynamic_rnn)\n"
   ]
  },
  {
   "cell_type": "code",
   "execution_count": 1,
   "metadata": {
    "collapsed": true
   },
   "outputs": [],
   "source": [
    "import tensorflow as tf\n",
    "import numpy as np\n",
    "import pandas as pd\n",
    "import matplotlib.pyplot as plt\n",
    "\n",
    "%matplotlib inline"
   ]
  },
  {
   "cell_type": "code",
   "execution_count": 2,
   "metadata": {
    "collapsed": true
   },
   "outputs": [],
   "source": [
    "n_input = 1 \n",
    "n_output = 1\n",
    "#LSTM隐层单元数量\n",
    "cell_size = 64\n",
    "#序列长度\n",
    "time_step = 20\n",
    "batch_start = 0\n",
    "#batch大小\n",
    "batch_size = 600\n",
    "#学习率\n",
    "lr = 0.6\n",
    "\n",
    "prefix = 't40b200r0_6_'"
   ]
  },
  {
   "cell_type": "code",
   "execution_count": 3,
   "metadata": {
    "collapsed": true
   },
   "outputs": [],
   "source": [
    "#截断正态分布初始化权重\n",
    "def weight_variable(shape,name):\n",
    "    data = tf.truncated_normal(stddev=0.01,shape=shape)\n",
    "    return tf.Variable(data,name=name)\n",
    "\n",
    "#初始化偏置单元\n",
    "def bais_variable(shape,name):\n",
    "    data = tf.constant(0.01,shape=shape)\n",
    "    return tf.Variable(data,name=name)\n",
    "\n",
    "#正规化数据\n",
    "def normalization(data,col):\n",
    "    data[col] = (data[col] - data[col].mean())/data[col].std()\n",
    "    \n",
    "#获得输入序列和输出序列\n",
    "#输出的应该是一个(batch_size,time_step,input_size)大小的矩阵\n",
    "def get_batch(inputs):\n",
    "    global batch_start,batch_size\n",
    "    leng = len(inputs)\n",
    "    batch_x = []\n",
    "    batch_y = []\n",
    "    for i in range(batch_size):\n",
    "        batch_x.append(inputs[batch_start:batch_start+time_step])\n",
    "        batch_y.append(inputs[batch_start+time_step])\n",
    "        batch_start+=1\n",
    "        if batch_start+time_step>=leng:\n",
    "            batch_start=0\n",
    "    return batch_x,batch_y\n",
    "\n",
    "def get_format_data(data,time_step):\n",
    "    leng = len(data)\n",
    "    x = []\n",
    "    y = []\n",
    "    for i in range(leng-time_step-1):\n",
    "        x.append(data[i:i+time_step])\n",
    "        y.append(data[i+time_step])\n",
    "    return x,y"
   ]
  },
  {
   "cell_type": "code",
   "execution_count": 4,
   "metadata": {
    "collapsed": true
   },
   "outputs": [],
   "source": [
    "#定义所有的变量\n",
    "#整个网络分为3部分：inpute、cell、output\n",
    "with tf.name_scope('input_layer'):\n",
    "    w_in = weight_variable([n_input,cell_size],name = 'W_in')\n",
    "    b_in = bais_variable([cell_size],name = \"b_in\")\n",
    "    \n",
    "with tf.name_scope('output_layer'):\n",
    "    w_out = weight_variable([cell_size,n_output],\"W_out\")\n",
    "    b_out = bais_variable([n_output],\"b_out\")\n",
    "    \n",
    "with tf.name_scope('cell_layer'):\n",
    "    lstm_cell = tf.nn.rnn_cell.BasicLSTMCell(cell_size,forget_bias=1.0,state_is_tuple=True)"
   ]
  },
  {
   "cell_type": "code",
   "execution_count": 5,
   "metadata": {
    "collapsed": true
   },
   "outputs": [],
   "source": [
    "#输入的x和y\n",
    "with tf.name_scope('input'):\n",
    "    xs = tf.placeholder(tf.float32,[None,time_step,n_input],name = \"xs\")\n",
    "    ys = tf.placeholder(tf.float32,[None,n_output],name = \"ys\")"
   ]
  },
  {
   "cell_type": "code",
   "execution_count": 6,
   "metadata": {
    "collapsed": true
   },
   "outputs": [],
   "source": [
    "#lstm网络，这里定义函数是为了根据batch_size获取不一样的结构\n",
    "#因为在初始化的时候需要传入batch_size（不太理解这个操作，模型应该与feed的batch的大小无关才是，可能内部有根据batch的循环？）\n",
    "#在训练和预测时，传入不同的batch_size获取同样结构的lstm（使用的Variable相同）\n",
    "def lstm(batch_size):\n",
    "    with tf.name_scope('input_layer'):\n",
    "        i = tf.reshape(xs,[-1,n_input])\n",
    "        i_rnn = tf.matmul(i,w_in)+ b_in\n",
    "        c_in = tf.reshape(i_rnn,[-1,time_step,cell_size])\n",
    "    with tf.name_scope('cell_layer'):\n",
    "        with tf.name_scope('initial_state'):\n",
    "            cell_initial_state = lstm_cell.zero_state(batch_size,dtype = tf.float32)\n",
    "            #cell_out [batch,time_step,cell_size]   cell_final_state [cell_size]\n",
    "            cell_out,cell_final_state = tf.nn.dynamic_rnn(lstm_cell,c_in,initial_state = cell_initial_state,time_major=False)\n",
    "    #这里输出只选取了最后一个值，这是因为我们只需要最后一个预测值，不需要之前序列的输出，所以在之后的损失函数中也只需要最后一个。\n",
    "    with tf.name_scope('output_layer'):\n",
    "        out_x = tf.reshape(cell_out[:,-1,:],[-1,cell_size])\n",
    "        out = tf.matmul(out_x,w_out)+b_out\n",
    "    return out,cell_final_state"
   ]
  },
  {
   "cell_type": "code",
   "execution_count": 7,
   "metadata": {
    "collapsed": true
   },
   "outputs": [],
   "source": [
    "#训练使用的输出\n",
    "out,cfs = lstm(batch_size)"
   ]
  },
  {
   "cell_type": "code",
   "execution_count": 8,
   "metadata": {
    "collapsed": true
   },
   "outputs": [],
   "source": [
    "#定义损失函数，\n",
    "with tf.name_scope('loss'):\n",
    "    losses = tf.reduce_mean(tf.square(out-ys))"
   ]
  },
  {
   "cell_type": "code",
   "execution_count": 9,
   "metadata": {
    "collapsed": true
   },
   "outputs": [],
   "source": [
    "#使用Adadelta训练\n",
    "with tf.name_scope('train_step'):\n",
    "    train_step = tf.train.AdadeltaOptimizer(lr).minimize(losses)"
   ]
  },
  {
   "cell_type": "code",
   "execution_count": 10,
   "metadata": {
    "collapsed": true
   },
   "outputs": [],
   "source": [
    "#tensorboard的summary\n",
    "with tf.name_scope('summary'):\n",
    "    tf.summary.histogram(prefix+\"w_in\",w_in)\n",
    "    tf.summary.histogram(prefix+\"b_in\",b_in)\n",
    "    \n",
    "    tf.summary.histogram(prefix+\"W_out\",w_out)\n",
    "    tf.summary.histogram(prefix+\"b_out\",b_out)\n",
    "    \n",
    "    tf.summary.scalar(prefix+\"loss\",losses)\n",
    "\n",
    "    merged = tf.summary.merge_all()"
   ]
  },
  {
   "cell_type": "code",
   "execution_count": 11,
   "metadata": {
    "collapsed": true
   },
   "outputs": [],
   "source": [
    "#读取数据\n",
    "#这里按日期的增长排序\n",
    "data = pd.read_csv(\"d:/resources/ml-learn/lstm/stock.csv\")\n",
    "\n",
    "data = data.drop('date',axis=1)\n",
    "for c in data.columns:\n",
    "    normalization(data,c)\n",
    "data_input = data['high'].values[:,np.newaxis]\n",
    "\n",
    "x,y = get_format_data(data_input,time_step=20)\n",
    "\n",
    "x_train = x[:batch_size]\n",
    "y_train = y[:batch_size]\n",
    "x_test = x[batch_size:]\n",
    "y_test = y[batch_size:]"
   ]
  },
  {
   "cell_type": "code",
   "execution_count": 12,
   "metadata": {
    "collapsed": true
   },
   "outputs": [
    {
     "name": "stdout",
     "output_type": "stream",
     "text": [
      "0  step\n",
      "50  step\n",
      "100  step\n",
      "150  step\n",
      "200  step\n",
      "250  step\n",
      "300  step\n",
      "350  step\n",
      "400  step\n",
      "450  step\n",
      "500  step\n",
      "550  step\n",
      "600  step\n",
      "650  step\n",
      "700  step\n",
      "750  step\n",
      "800  step\n",
      "850  step\n",
      "900  step\n",
      "950  step\n"
     ]
    }
   ],
   "source": [
    "sess = tf.InteractiveSession()\n",
    "init = tf.global_variables_initializer()\n",
    "sess.run(init)\n",
    "fileWriter = tf.summary.FileWriter('logs/lstm',sess.graph)\n",
    "for i in range(1000):\n",
    "    _,__,summaried = sess.run([train_step,losses,merged],feed_dict={xs:x_train,ys:y_train})\n",
    "    fileWriter.add_summary(summaried,i)\n",
    "    if i%50==0:\n",
    "        print(i,\" step\")\n",
    "fileWriter.close()"
   ]
  },
  {
   "cell_type": "code",
   "execution_count": 13,
   "metadata": {},
   "outputs": [
    {
     "data": {
      "text/plain": [
       "[<matplotlib.lines.Line2D at 0x1cbe13c71d0>,\n",
       " <matplotlib.lines.Line2D at 0x1cbe13e9550>]"
      ]
     },
     "execution_count": 13,
     "metadata": {},
     "output_type": "execute_result"
    },
    {
     "data": {
      "image/png": "[encoded data removed]",
      "text/plain": [
       "<matplotlib.figure.Figure at 0x1cbdfc51cc0>"
      ]
     },
     "metadata": {},
     "output_type": "display_data"
    }
   ],
   "source": [
    "leng = len(y_test)\n",
    "out1 = lstm(leng)\n",
    "y_pre = sess.run([out1],feed_dict={xs:x_test})\n",
    "x = np.arange(0,leng)\n",
    "plt.plot(x,y_pre[0][0],'b',x,y_test,'r')"
   ]
  }
 ],
 "metadata": {
  "kernelspec": {
   "display_name": "tensorflow-kernel",
   "language": "python",
   "name": "tensorflow-kernel"
  },
  "language_info": {
   "codemirror_mode": {
    "name": "ipython",
    "version": 3
   },
   "file_extension": ".py",
   "mimetype": "text/x-python",
   "name": "python",
   "nbconvert_exporter": "python",
   "pygments_lexer": "ipython3",
   "version": "3.5.4"
  }
 },
 "nbformat": 4,
 "nbformat_minor": 2
}
