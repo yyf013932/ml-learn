{
 "cells": [
  {
   "cell_type": "markdown",
   "metadata": {},
   "source": [
    "# 基本操作"
   ]
  },
  {
   "cell_type": "code",
   "execution_count": 1,
   "metadata": {
    "collapsed": true
   },
   "outputs": [],
   "source": [
    "import tensorflow as tf\n",
    "import numpy as np\n",
    "##先引入对应的包"
   ]
  },
  {
   "cell_type": "markdown",
   "metadata": {},
   "source": [
    "## Graph、Node、Tensor"
   ]
  },
  {
   "cell_type": "markdown",
   "metadata": {},
   "source": [
    "tensorflow的计算是通过一个计算图(computation graph，有时也称有向图,directed graph)模型来做的，使用tensorflow完成一个目标就是需要搭建一个对应的图模型，一个图可以分解为**Node节点（一个节点表示一个操作，operation）**、**在图中流动的tensor**、**节点之间的连接边（edge）**。Node可看做是一个计算节点，接受0个或多个tensor作为输入，输出1个或多个tensor。tensor（张量），可以类比于多维数组，0阶张量表示为一个常数（常量、纯量）；1阶张量则可表示为1维数组（向量）；2阶张量表示为2维数组（矩阵）。"
   ]
  },
  {
   "cell_type": "code",
   "execution_count": 2,
   "metadata": {
    "scrolled": true
   },
   "outputs": [
    {
     "name": "stdout",
     "output_type": "stream",
     "text": [
      "Tensor(\"Add:0\", shape=(), dtype=float32)\n"
     ]
    }
   ],
   "source": [
    "#创建了两个常量Node，接受0个输入，1个输出\n",
    "cons1 = tf.constant(3.);\n",
    "cons2 = tf.constant(2.);\n",
    "#创建了第三个节点Node，与前两个节点连接，此时也是一个常量节点\n",
    "add_node = tf.add(cons1,cons2)\n",
    "\n",
    "print(add_node)"
   ]
  },
  {
   "cell_type": "markdown",
   "metadata": {},
   "source": [
    "## Session"
   ]
  },
  {
   "cell_type": "markdown",
   "metadata": {},
   "source": [
    "TensorFlow的计算任务需要在对应的上下文Session中进行"
   ]
  },
  {
   "cell_type": "code",
   "execution_count": 3,
   "metadata": {},
   "outputs": [
    {
     "name": "stdout",
     "output_type": "stream",
     "text": [
      "[3.0, 2.0, 5.0]\n"
     ]
    }
   ],
   "source": [
    "with tf.Session() as sess:\n",
    "    print(sess.run([cons1, cons2 , add_node]))"
   ]
  },
  {
   "cell_type": "markdown",
   "metadata": {},
   "source": [
    "## placeholder、variable"
   ]
  },
  {
   "cell_type": "code",
   "execution_count": 4,
   "metadata": {
    "collapsed": true
   },
   "outputs": [],
   "source": [
    "#placeholder可以参数化输入，表示介绍一个3*2(2*3)大小的2阶张量（矩阵）\n",
    "a = tf.placeholder(dtype=tf.float32,shape=(3,2))\n",
    "b = tf.placeholder(dtype=tf.float32,shape=(2,3))\n",
    "#c为两矩阵的乘积\n",
    "c=tf.matmul(a,b)"
   ]
  },
  {
   "cell_type": "code",
   "execution_count": 5,
   "metadata": {},
   "outputs": [
    {
     "name": "stdout",
     "output_type": "stream",
     "text": [
      "[[ 0.22469544  0.87722647  0.79920864]\n",
      " [ 0.12417199  0.48619077  0.45701045]\n",
      " [ 0.09483597  0.36098951  0.23689401]]\n"
     ]
    }
   ],
   "source": [
    "#模拟两个输入\n",
    "input1 = np.random.rand(3,2)\n",
    "input2 = np.random.rand(2,3)\n",
    "#进行计算，注意需要传入feed_dict参数，作为代替c节点中的参数\n",
    "with tf.Session() as sess:\n",
    "    print(sess.run( c, feed_dict={a:input1,b:input2}))"
   ]
  },
  {
   "cell_type": "code",
   "execution_count": 6,
   "metadata": {},
   "outputs": [
    {
     "name": "stdout",
     "output_type": "stream",
     "text": [
      "[ 0.          0.1         0.20000002  0.30000001]\n"
     ]
    }
   ],
   "source": [
    "#placeholder表示外界的输入，而Variable则表示可训练的模型自身的参数，用来保存模型的状态\n",
    "#可以被后续的操作更新\n",
    "W = tf.Variable([.1],dtype=tf.float32)\n",
    "b = tf.Variable([-.1],dtype=tf.float32)\n",
    "x = tf.placeholder(tf.float32)\n",
    "custom_lm = W * x + b\n",
    "#由于variable在创建时不会自动的初始化，于是需要显示的调用初始化语句\n",
    "init = tf.global_variables_initializer()\n",
    "with tf.Session() as sess:\n",
    "    sess.run(init) #先初始化每个参数，init这个op可以初始化所有参数\n",
    "    print(sess.run(custom_lm,{x:[1,2,3,4]}))"
   ]
  },
  {
   "cell_type": "markdown",
   "metadata": {},
   "source": [
    "## loss function and training"
   ]
  },
  {
   "cell_type": "code",
   "execution_count": 8,
   "metadata": {},
   "outputs": [
    {
     "name": "stdout",
     "output_type": "stream",
     "text": [
      "47.557\n"
     ]
    }
   ],
   "source": [
    "input_x=np.array([1.1,2.03,2.95,4.08,5.05])\n",
    "input_y=np.array([0.95,1.98,3.11,4.00,4.99])\n",
    "#对于一个模型需要构建一个其的loss function\n",
    "y = tf.placeholder(tf.float32)\n",
    "loss = tf.reduce_sum(tf.square(custom_lm-y))#二次损失函数\n",
    "with tf.Session() as sess:\n",
    "    sess.run(init)\n",
    "    print(sess.run(loss , {x : input_x , y : input_y}))"
   ]
  },
  {
   "cell_type": "code",
   "execution_count": 9,
   "metadata": {},
   "outputs": [
    {
     "name": "stdout",
     "output_type": "stream",
     "text": [
      "[ 0.96384549] [ 0.10305085] 0.080245\n"
     ]
    }
   ],
   "source": [
    "#之后可以使用训练tf.train API进行模型的训练\n",
    "#使用梯度下降进行优化\n",
    "optimizer = tf.train.GradientDescentOptimizer(0.01)\n",
    "train = optimizer.minimize(loss)\n",
    "with tf.Session() as sess:\n",
    "    sess.run(init)\n",
    "    #1000次迭代训练\n",
    "    for _ in range(10):\n",
    "        sess.run(train,{x:input_x,y:input_y})\n",
    "    #评估最后的结果\n",
    "    W_,b_,loss_ = sess.run( [ W , b , loss ],{x:input_x,y:input_y})\n",
    "    print(W_,b_,loss_)"
   ]
  },
  {
   "cell_type": "markdown",
   "metadata": {},
   "source": [
    "## TersorBoard & Visualization"
   ]
  },
  {
   "cell_type": "markdown",
   "metadata": {},
   "source": [
    "可视化可以参考[TensorBoard README](https://github.com/tensorflow/tensorflow/blob/r1.1/tensorflow/tensorboard/README.md)以及[TensorBoard](https://www.tensorflow.org/get_started/summaries_and_tensorboard)\n",
    "[TensorFlowSubmit](https://www.youtube.com/watch?v=eBbEDRsCmv4&index=5&list=PLOU2XLYxmsIKGc_NBoIhTn2Qhraji53cv)"
   ]
  },
  {
   "cell_type": "markdown",
   "metadata": {},
   "source": [
    "可视化主要是通过启动tensorboard，来可视化计算的值，而将tensorflow的计算过程传递给tensorboard实际上需要summary操作，并将计算的结果存入磁盘里，tensorboard则通过读取这些信息来进行可视化\n",
    "\n",
    "一个简单的步骤为：\n",
    "1. 对需要生产summary的节点添加对应的summary操作，所有的summary操作参见[summary operation](https://www.tensorflow.org/api_guides/python/summary)\n",
    "2. 执行summary操作。因为summary操作可能不被其他节点依赖，所以需要显式执行，可以使用[tf.summary.merge_all](https://www.tensorflow.org/api_docs/python/tf/summary/merge_all)将所有的summary生成一个节点进行执行\n",
    "3. 执行完summary操作后会生成一个序列化对象，然后持久化保存此对象.[tf.summaryFileWriter](https://www.tensorflow.org/api_docs/python/tf/summary/FileWriter)"
   ]
  },
  {
   "cell_type": "code",
   "execution_count": 10,
   "metadata": {
    "collapsed": true
   },
   "outputs": [],
   "source": [
    "#记录loss,W,b\n",
    "tf.summary.scalar('loss',loss)\n",
    "tf.summary.tensor_summary('weight',W)\n",
    "tf.summary.tensor_summary('bias',b)\n",
    "\n",
    "merged = tf.summary.merge_all()\n"
   ]
  },
  {
   "cell_type": "code",
   "execution_count": 11,
   "metadata": {},
   "outputs": [
    {
     "ename": "NameError",
     "evalue": "name 'tf' is not defined",
     "output_type": "error",
     "traceback": [
      "\u001b[1;31m---------------------------------------------------------------------------\u001b[0m",
      "\u001b[1;31mNameError\u001b[0m                                 Traceback (most recent call last)",
      "\u001b[1;32m<ipython-input-1-aff4dfcc7084>\u001b[0m in \u001b[0;36m<module>\u001b[1;34m()\u001b[0m\n\u001b[1;32m----> 1\u001b[1;33m \u001b[1;32mwith\u001b[0m \u001b[0mtf\u001b[0m\u001b[1;33m.\u001b[0m\u001b[0mSession\u001b[0m\u001b[1;33m(\u001b[0m\u001b[1;33m)\u001b[0m \u001b[1;32mas\u001b[0m \u001b[0msess\u001b[0m\u001b[1;33m:\u001b[0m\u001b[1;33m\u001b[0m\u001b[0m\n\u001b[0m\u001b[0;32m      2\u001b[0m     \u001b[0msess\u001b[0m\u001b[1;33m.\u001b[0m\u001b[0mrun\u001b[0m\u001b[1;33m(\u001b[0m\u001b[0minit\u001b[0m\u001b[1;33m)\u001b[0m\u001b[1;33m\u001b[0m\u001b[0m\n\u001b[0;32m      3\u001b[0m     \u001b[1;31m#初始化FileWriter\u001b[0m\u001b[1;33m\u001b[0m\u001b[1;33m\u001b[0m\u001b[0m\n\u001b[0;32m      4\u001b[0m     \u001b[0mfileWriter\u001b[0m \u001b[1;33m=\u001b[0m \u001b[0mtf\u001b[0m\u001b[1;33m.\u001b[0m\u001b[0msummary\u001b[0m\u001b[1;33m.\u001b[0m\u001b[0mFileWriter\u001b[0m\u001b[1;33m(\u001b[0m \u001b[1;34m'logs/basicOP'\u001b[0m\u001b[1;33m,\u001b[0m\u001b[0msess\u001b[0m\u001b[1;33m.\u001b[0m\u001b[0mgraph\u001b[0m\u001b[1;33m)\u001b[0m\u001b[1;33m\u001b[0m\u001b[0m\n\u001b[0;32m      5\u001b[0m     \u001b[1;31m#1000次迭代训练\u001b[0m\u001b[1;33m\u001b[0m\u001b[1;33m\u001b[0m\u001b[0m\n",
      "\u001b[1;31mNameError\u001b[0m: name 'tf' is not defined"
     ]
    }
   ],
   "source": [
    "with tf.Session() as sess:\n",
    "    sess.run(init)\n",
    "    #初始化FileWriter\n",
    "    fileWriter = tf.summary.FileWriter( 'logs/basicOP',sess.graph)\n",
    "    #1000次迭代训练\n",
    "    for i in range(10):\n",
    "        _ , summaried= sess.run([train,merged],{x:input_x,y:input_y})\n",
    "        fileWriter.add_summary(summaried,i)\n",
    "    #评估最后的结果\n",
    "    W_,b_,loss_ = sess.run( [ W , b , loss ],{x:input_x,y:input_y})\n",
    "    print(W_,b_,loss_)"
   ]
  },
  {
   "cell_type": "markdown",
   "metadata": {},
   "source": [
    "运行完后即可以启动tensorboard，设置好对应的logdir后即可查看运行的情况\n",
    "`tensorboard --logdir=path/to/logs`\n",
    "启动后进入localhost:6006"
   ]
  }
 ],
 "metadata": {
  "kernelspec": {
   "display_name": "tensorflow-kernel",
   "language": "python",
   "name": "tensorflow-kernel"
  },
  "language_info": {
   "codemirror_mode": {
    "name": "ipython",
    "version": 3
   },
   "file_extension": ".py",
   "mimetype": "text/x-python",
   "name": "python",
   "nbconvert_exporter": "python",
   "pygments_lexer": "ipython3",
   "version": "3.5.4"
  }
 },
 "nbformat": 4,
 "nbformat_minor": 2
}
