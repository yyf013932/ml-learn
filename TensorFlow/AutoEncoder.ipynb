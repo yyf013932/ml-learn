{
 "cells": [
  {
   "cell_type": "markdown",
   "metadata": {},
   "source": [
    "## 自编码器实现"
   ]
  },
  {
   "cell_type": "code",
   "execution_count": 20,
   "metadata": {},
   "outputs": [],
   "source": [
    "import numpy as np\n",
    "import tensorflow as tf\n",
    "import matplotlib.pyplot as plt\n",
    "%matplotlib inline\n"
   ]
  },
  {
   "cell_type": "code",
   "execution_count": 8,
   "metadata": {},
   "outputs": [
    {
     "name": "stdout",
     "output_type": "stream",
     "text": [
      "Extracting MNIST_data/train-images-idx3-ubyte.gz\n",
      "Extracting MNIST_data/train-labels-idx1-ubyte.gz\n",
      "Extracting MNIST_data/t10k-images-idx3-ubyte.gz\n",
      "Extracting MNIST_data/t10k-labels-idx1-ubyte.gz\n"
     ]
    }
   ],
   "source": [
    "from tensorflow.examples.tutorials.mnist import input_data\n",
    "# import data\n",
    "mnist = input_data.read_data_sets(\"MNIST_data/\",one_hot=True)"
   ]
  },
  {
   "cell_type": "code",
   "execution_count": 9,
   "metadata": {
    "collapsed": true
   },
   "outputs": [],
   "source": [
    "#初始化权重\n",
    "def weight_variable(shape):\n",
    "    data = tf.truncated_normal(stddev=0.1,shape=shape)\n",
    "    return tf.Variable(data)\n",
    "\n",
    "#初始化偏置单元\n",
    "def bais_variable(shape):\n",
    "    data = tf.constant(0.1,shape=shape)\n",
    "    return tf.Variable(data)\n",
    "\n",
    "def get_noise(shape,stddev=0.01):\n",
    "    return tf.truncated_normal(shape=shape,stddev=stddev)"
   ]
  },
  {
   "cell_type": "code",
   "execution_count": 74,
   "metadata": {
    "collapsed": true
   },
   "outputs": [],
   "source": [
    "def show_image(fig,image,index):\n",
    "    image = image.reshape(28,28)\n",
    "    ax = fig.add_subplot(index)\n",
    "    ax.imshow(image,cmap=\"gray\")"
   ]
  },
  {
   "cell_type": "code",
   "execution_count": 10,
   "metadata": {
    "collapsed": true
   },
   "outputs": [],
   "source": [
    "#build model\n",
    "class AutoEncoder:\n",
    "    def __init__(self,input_n,hidden_n,sess):\n",
    "        #初始化节点数\n",
    "        self.input_n=input_n\n",
    "        self.hidden_n=hidden_n\n",
    "        self.sess=sess\n",
    "        self.X = tf.placeholder(tf.float32,[None,input_n])\n",
    "        self.W_input = weight_variable([input_n,hidden_n])\n",
    "        self.b_input = bais_variable([hidden_n])\n",
    "        self.W_output = weight_variable([hidden_n,input_n])\n",
    "        self.b_output = bais_variable([input_n])\n",
    "        #计算隐层\n",
    "        self.hidden = tf.nn.softplus(tf.matmul(self.X+get_noise([input_n,]),self.W_input)+self.b_input)\n",
    "        #计算重构层\n",
    "        self.reconstruction = tf.matmul(self.hidden,self.W_output)+self.b_output\n",
    "        #损失函数\n",
    "        self.cost = tf.reduce_mean(tf.pow(self.reconstruction-self.X,2))\n",
    "        #默认使用Adam\n",
    "        self.optimazer = tf.train.AdamOptimizer()\n",
    "        #训练步骤\n",
    "        self.train_step = self.optimazer.minimize(self.cost)\n",
    "        \n",
    "        \n",
    "    #在样本X上进行一次训练，并返回误差\n",
    "    def partial_fit(self,X):\n",
    "        c,_ = self.sess.run((self.cost,self.train_step),feed_dict={self.X:X})\n",
    "        return c\n",
    "    \n",
    "    #返回在样本X上的总误差，不会触发训练操作\n",
    "    def calc_total_cost(self,X):\n",
    "        return self.sess.run(self.cost,feed_dict={self.X:X})\n",
    "    \n",
    "    def transform(self,X):\n",
    "        return self.sess.run(self.hidden,feed_dict={self.X:X})\n",
    "    \n",
    "    def generate(self,hidden=None):\n",
    "        if hidden is None:\n",
    "            hidden = np.random.normal(size=self.b_input)\n",
    "        return self.sess.run(self.reconstruction,feed_dict={self.hidden:hidden})"
   ]
  },
  {
   "cell_type": "code",
   "execution_count": 69,
   "metadata": {},
   "outputs": [
    {
     "name": "stdout",
     "output_type": "stream",
     "text": [
      "Epoch: 0001 cost= 0.246817231\n",
      "Epoch: 0051 cost= 0.083852701\n",
      "Epoch: 0101 cost= 0.072217360\n",
      "Epoch: 0151 cost= 0.065666817\n",
      "Epoch: 0201 cost= 0.062352654\n",
      "Epoch: 0251 cost= 0.053403556\n",
      "Epoch: 0301 cost= 0.049274240\n",
      "Epoch: 0351 cost= 0.042051412\n",
      "Epoch: 0401 cost= 0.041318268\n",
      "Epoch: 0451 cost= 0.040301375\n",
      "Epoch: 0501 cost= 0.037962981\n",
      "Epoch: 0551 cost= 0.034838852\n",
      "Epoch: 0601 cost= 0.034524839\n",
      "Epoch: 0651 cost= 0.032229248\n",
      "Epoch: 0701 cost= 0.032432180\n",
      "Epoch: 0751 cost= 0.030381735\n",
      "Epoch: 0801 cost= 0.030174272\n",
      "Epoch: 0851 cost= 0.028710466\n",
      "Epoch: 0901 cost= 0.027621768\n",
      "Epoch: 0951 cost= 0.028546879\n",
      "Epoch: 1001 cost= 0.027734078\n",
      "Epoch: 1051 cost= 0.027568473\n",
      "Epoch: 1101 cost= 0.026489574\n",
      "Epoch: 1151 cost= 0.027923020\n",
      "Epoch: 1201 cost= 0.025787894\n",
      "Epoch: 1251 cost= 0.026330329\n",
      "Epoch: 1301 cost= 0.026082773\n",
      "Epoch: 1351 cost= 0.026926041\n",
      "Epoch: 1401 cost= 0.027136214\n",
      "Epoch: 1451 cost= 0.026957618\n",
      "Epoch: 1501 cost= 0.026159158\n",
      "Epoch: 1551 cost= 0.027184390\n",
      "Epoch: 1601 cost= 0.025021514\n",
      "Epoch: 1651 cost= 0.026192138\n",
      "Epoch: 1701 cost= 0.025471020\n",
      "Epoch: 1751 cost= 0.026381372\n",
      "Epoch: 1801 cost= 0.025793634\n",
      "Epoch: 1851 cost= 0.026427602\n",
      "Epoch: 1901 cost= 0.026706237\n",
      "Epoch: 1951 cost= 0.025533007\n",
      "Epoch: 2001 cost= 0.025084740\n",
      "Epoch: 2051 cost= 0.024769591\n",
      "Epoch: 2101 cost= 0.024496492\n",
      "Epoch: 2151 cost= 0.023644855\n",
      "Epoch: 2201 cost= 0.024663996\n",
      "Epoch: 2251 cost= 0.022840463\n",
      "Epoch: 2301 cost= 0.026256813\n",
      "Epoch: 2351 cost= 0.026614992\n",
      "Epoch: 2401 cost= 0.025712904\n",
      "Epoch: 2451 cost= 0.023885401\n",
      "Epoch: 2501 cost= 0.025435684\n",
      "Epoch: 2551 cost= 0.025560953\n",
      "Epoch: 2601 cost= 0.024710860\n",
      "Epoch: 2651 cost= 0.024990402\n",
      "Epoch: 2701 cost= 0.024302294\n",
      "Epoch: 2751 cost= 0.024456652\n",
      "Epoch: 2801 cost= 0.025713809\n",
      "Epoch: 2851 cost= 0.025296960\n",
      "Epoch: 2901 cost= 0.025460189\n",
      "Epoch: 2951 cost= 0.025116650\n",
      "totalCost= 0.0243262\n"
     ]
    }
   ],
   "source": [
    "sess = tf.InteractiveSession()\n",
    "encoder = AutoEncoder(784,20,sess)\n",
    "tf.global_variables_initializer().run()\n",
    "batch_size=128\n",
    "display_step = 50\n",
    "batchs = int(mnist.train.images.size/batch_size)\n",
    "for epoch in range(3000):\n",
    "    X,__ = mnist.train.next_batch(batch_size)\n",
    "    cost = encoder.partial_fit(X)\n",
    "    if epoch % display_step == 0:\n",
    "        print('Epoch:','%04d' % (epoch +1 ) ,\"cost=\",\"%.9f\" % cost)\n",
    "print(\"totalCost=\",encoder.calc_total_cost(mnist.test.images))"
   ]
  },
  {
   "cell_type": "code",
   "execution_count": 75,
   "metadata": {},
   "outputs": [
    {
     "data": {
      "image/png": "[encoded data removed]",
      "text/plain": [
       "<matplotlib.figure.Figure at 0x1f08344b2b0>"
      ]
     },
     "metadata": {},
     "output_type": "display_data"
    }
   ],
   "source": [
    "te = mnist.test.images[500:505]\n",
    "re = encoder.generate(encoder.transform(te))\n",
    "fig = plt.figure()\n",
    "show_image(fig,te[0],241)\n",
    "show_image(fig,re[0],242)\n",
    "show_image(fig,te[1],243)\n",
    "show_image(fig,re[1],244)\n",
    "show_image(fig,te[2],245)\n",
    "show_image(fig,re[2],246)\n",
    "show_image(fig,te[3],247)\n",
    "show_image(fig,re[3],248)\n",
    "plt.show()"
   ]
  },
  {
   "cell_type": "code",
   "execution_count": null,
   "metadata": {
    "collapsed": true
   },
   "outputs": [],
   "source": []
  }
 ],
 "metadata": {
  "kernelspec": {
   "display_name": "tensorflow-kernel",
   "language": "python",
   "name": "tensorflow-kernel"
  },
  "language_info": {
   "codemirror_mode": {
    "name": "ipython",
    "version": 3
   },
   "file_extension": ".py",
   "mimetype": "text/x-python",
   "name": "python",
   "nbconvert_exporter": "python",
   "pygments_lexer": "ipython3",
   "version": "3.5.4"
  }
 },
 "nbformat": 4,
 "nbformat_minor": 2
}
