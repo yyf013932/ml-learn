{
 "cells": [
  {
   "cell_type": "code",
   "execution_count": 1,
   "metadata": {
    "collapsed": true
   },
   "outputs": [],
   "source": [
    "import tensorflow as tf\n",
    "import numpy as np"
   ]
  },
  {
   "cell_type": "markdown",
   "metadata": {},
   "source": [
    "## 构建一个简单的线性模型"
   ]
  },
  {
   "cell_type": "code",
   "execution_count": 2,
   "metadata": {},
   "outputs": [],
   "source": [
    "W = tf.Variable(1.,name=\"W\")\n",
    "b = tf.Variable(-1.,name=\"b\")\n",
    "x = tf.placeholder(tf.float32,name='x')\n",
    "y =tf.placeholder(tf.float32,name='y')\n",
    "y_ =tf.add(tf.multiply(W,x,name=\"W_x\"),b,name=\"output\")\n",
    "\n",
    "input_x=np.array([1.1,2.03,2.95,4.08,5.05])\n",
    "input_y=np.array([0.95,1.98,3.11,4.00,4.99])\n",
    "\n",
    "loss = tf.reduce_sum(tf.square(y-y_))\n",
    "optimizer = tf.train.GradientDescentOptimizer(0.01).minimize(loss)\n",
    "\n",
    "init = tf.global_variables_initializer()\n"
   ]
  },
  {
   "cell_type": "markdown",
   "metadata": {},
   "source": [
    "## 使用tf.train.Saver"
   ]
  },
  {
   "cell_type": "markdown",
   "metadata": {
    "collapsed": true
   },
   "source": [
    "关于使用Saver保存的模型结构可以参考[A quick complete tutorial to save and restore Tensorflow models](http://cv-tricks.com/tensorflow-tutorial/save-restore-tensorflow-models-quick-complete-tutorial/)"
   ]
  },
  {
   "cell_type": "markdown",
   "metadata": {},
   "source": [
    "### 保存模型参数"
   ]
  },
  {
   "cell_type": "code",
   "execution_count": 5,
   "metadata": {},
   "outputs": [
    {
     "name": "stdout",
     "output_type": "stream",
     "text": [
      "1.05747 -0.237715\n"
     ]
    }
   ],
   "source": [
    "saver = tf.train.Saver()\n",
    "with tf.Session() as sess:\n",
    "    sess.run(init)\n",
    "    for _ in range(100):\n",
    "        W_,b_,_=sess.run([W,b,optimizer],{x:input_x,y:input_y})\n",
    "    print(W.eval(),b.eval())\n",
    "    saver.save(sess,\"savedModel/02/model.ckpt\")"
   ]
  },
  {
   "cell_type": "markdown",
   "metadata": {},
   "source": [
    "### 读取模型参数\n",
    "**注：这里必须重新运行kernel，否则会出现变量定义重复而出错**"
   ]
  },
  {
   "cell_type": "code",
   "execution_count": 2,
   "metadata": {},
   "outputs": [
    {
     "name": "stdout",
     "output_type": "stream",
     "text": [
      "INFO:tensorflow:Restoring parameters from savedModel/02/model.ckpt\n",
      "1.05747 -0.237715\n",
      "<class 'numpy.float32'>\n"
     ]
    }
   ],
   "source": [
    "W1 = tf.Variable(0.,name=\"W\")\n",
    "b1  = tf.Variable(-1.,name=\"b\")\n",
    "saver = tf.train.Saver()\n",
    "with tf.Session() as sess:\n",
    "    saver.restore(sess,\"savedModel/02/model.ckpt\")\n",
    "    print(W1.eval(),b1.eval())"
   ]
  },
  {
   "cell_type": "markdown",
   "metadata": {},
   "source": [
    "## 使用[tf.train.write_graph()](https://www.tensorflow.org/api_docs/python/tf/train/write_graph)"
   ]
  },
  {
   "cell_type": "markdown",
   "metadata": {},
   "source": [
    "### 保存模型"
   ]
  },
  {
   "cell_type": "markdown",
   "metadata": {},
   "source": [
    "tensorflow模型保存的文件格式可参考[A Tool Developer's Guide to TensorFlow Model Files](https://www.tensorflow.org/extend/tool_developers/)，我们可以将模型保存为文本类型或二进制，通常二进制文件会更小，这代表在大模型的场景下，二进制文件更适用\n",
    "\n",
    "这里要说明的是，tensorflow里的组件都有对应的def类，比如Graph有GraphDef类，这些Def是基于[Protocol Buffers](https://developers.google.com/protocol-buffers/?hl=en) 生成的。可以将GraphDef看做是Graph的元数据（定义），定义了Graph里的Node（Node也有对应的NodeDef）、version等（具体数据参考[GraphDef定义](https://github.com/tensorflow/tensorflow/blob/master/tensorflow/core/framework/graph.proto)）。我们实际保存的图模型也是GraphDef.\n",
    "\n",
    "write_graph()函数其实也只是简单的将转换后的GraphDef序列化后保存到文件中，我们可以自行调用GraphDef.SerializeToString()获得序列化后的输出，再写入文件"
   ]
  },
  {
   "cell_type": "code",
   "execution_count": 15,
   "metadata": {},
   "outputs": [
    {
     "ename": "NameError",
     "evalue": "name 'init' is not defined",
     "output_type": "error",
     "traceback": [
      "\u001b[1;31m---------------------------------------------------------------------------\u001b[0m",
      "\u001b[1;31mNameError\u001b[0m                                 Traceback (most recent call last)",
      "\u001b[1;32m<ipython-input-15-d207c274b3ad>\u001b[0m in \u001b[0;36m<module>\u001b[1;34m()\u001b[0m\n\u001b[0;32m      1\u001b[0m \u001b[1;32mwith\u001b[0m \u001b[0mtf\u001b[0m\u001b[1;33m.\u001b[0m\u001b[0mSession\u001b[0m\u001b[1;33m(\u001b[0m\u001b[1;33m)\u001b[0m \u001b[1;32mas\u001b[0m \u001b[0msess\u001b[0m\u001b[1;33m:\u001b[0m\u001b[1;33m\u001b[0m\u001b[0m\n\u001b[0;32m      2\u001b[0m     \u001b[1;31m#训练模型\u001b[0m\u001b[1;33m\u001b[0m\u001b[1;33m\u001b[0m\u001b[0m\n\u001b[1;32m----> 3\u001b[1;33m     \u001b[0msess\u001b[0m\u001b[1;33m.\u001b[0m\u001b[0mrun\u001b[0m\u001b[1;33m(\u001b[0m\u001b[0minit\u001b[0m\u001b[1;33m)\u001b[0m\u001b[1;33m\u001b[0m\u001b[0m\n\u001b[0m\u001b[0;32m      4\u001b[0m     \u001b[1;32mfor\u001b[0m \u001b[0m_\u001b[0m \u001b[1;32min\u001b[0m \u001b[0mrange\u001b[0m\u001b[1;33m(\u001b[0m\u001b[1;36m100\u001b[0m\u001b[1;33m)\u001b[0m\u001b[1;33m:\u001b[0m\u001b[1;33m\u001b[0m\u001b[0m\n\u001b[0;32m      5\u001b[0m         \u001b[0mW_\u001b[0m\u001b[1;33m,\u001b[0m\u001b[0mb_\u001b[0m\u001b[1;33m,\u001b[0m\u001b[0m_\u001b[0m\u001b[1;33m=\u001b[0m\u001b[0msess\u001b[0m\u001b[1;33m.\u001b[0m\u001b[0mrun\u001b[0m\u001b[1;33m(\u001b[0m\u001b[1;33m[\u001b[0m\u001b[0mW\u001b[0m\u001b[1;33m,\u001b[0m\u001b[0mb\u001b[0m\u001b[1;33m,\u001b[0m\u001b[0moptimizer\u001b[0m\u001b[1;33m]\u001b[0m\u001b[1;33m,\u001b[0m\u001b[1;33m{\u001b[0m\u001b[0mx\u001b[0m\u001b[1;33m:\u001b[0m\u001b[0minput_x\u001b[0m\u001b[1;33m,\u001b[0m\u001b[0my\u001b[0m\u001b[1;33m:\u001b[0m\u001b[0minput_y\u001b[0m\u001b[1;33m}\u001b[0m\u001b[1;33m)\u001b[0m\u001b[1;33m\u001b[0m\u001b[0m\n",
      "\u001b[1;31mNameError\u001b[0m: name 'init' is not defined"
     ]
    }
   ],
   "source": [
    "with tf.Session() as sess:\n",
    "    #训练模型\n",
    "    sess.run(init)\n",
    "    for _ in range(100):\n",
    "        W_,b_,_=sess.run([W,b,optimizer],{x:input_x,y:input_y})\n",
    "    \n",
    "    #将模型中的变量（variables）全部变为constants，在生产环境下如果不需要继续训练模型而只使用训练好的模型的参数，则可以将所有的变量转换为常量\n",
    "    #如果不转换为常量，则训练好的variables的值无法保存\n",
    "    #可以减小模型的大小\n",
    "    #这里返回的即为一个GraphDef类\n",
    "    output_graph_def = tf.graph_util.convert_variables_to_constants(sess , sess.graph_def , output_node_names = [\"output\"])\n",
    "    #最后一个参数表示是否保存为文本文件格式，这里选择不用文本格式（二进制保存）\n",
    "    tf.train.write_graph(output_graph,\"savedModel/02\",\"model1.pb\",False)\n"
   ]
  },
  {
   "cell_type": "markdown",
   "metadata": {},
   "source": [
    "### 读取模型"
   ]
  },
  {
   "cell_type": "markdown",
   "metadata": {},
   "source": [
    "在读取模型的时候，也需要根据保存的类型来进行不同方式的读取，这里先以之前保存的二进制方式为例。读取时，我们需要创建一个新的GraphDef来加载保存的模型，然后使用tf.import_graph_def将加载好的模型引用到原模型中去"
   ]
  },
  {
   "cell_type": "code",
   "execution_count": 16,
   "metadata": {},
   "outputs": [
    {
     "name": "stdout",
     "output_type": "stream",
     "text": [
      "name: \"import/W\"\n",
      "op: \"Const\"\n",
      "attr {\n",
      "  key: \"dtype\"\n",
      "  value {\n",
      "    type: DT_FLOAT\n",
      "  }\n",
      "}\n",
      "attr {\n",
      "  key: \"value\"\n",
      "  value {\n",
      "    tensor {\n",
      "      dtype: DT_FLOAT\n",
      "      tensor_shape {\n",
      "      }\n",
      "      float_val: 1.057468056678772\n",
      "    }\n",
      "  }\n",
      "}\n",
      "\n",
      "name: \"import/W/read\"\n",
      "op: \"Identity\"\n",
      "input: \"import/W\"\n",
      "attr {\n",
      "  key: \"T\"\n",
      "  value {\n",
      "    type: DT_FLOAT\n",
      "  }\n",
      "}\n",
      "attr {\n",
      "  key: \"_class\"\n",
      "  value {\n",
      "    list {\n",
      "      s: \"loc:@import/W\"\n",
      "    }\n",
      "  }\n",
      "}\n",
      "\n",
      "name: \"import/b\"\n",
      "op: \"Const\"\n",
      "attr {\n",
      "  key: \"dtype\"\n",
      "  value {\n",
      "    type: DT_FLOAT\n",
      "  }\n",
      "}\n",
      "attr {\n",
      "  key: \"value\"\n",
      "  value {\n",
      "    tensor {\n",
      "      dtype: DT_FLOAT\n",
      "      tensor_shape {\n",
      "      }\n",
      "      float_val: -0.23771463334560394\n",
      "    }\n",
      "  }\n",
      "}\n",
      "\n",
      "name: \"import/b/read\"\n",
      "op: \"Identity\"\n",
      "input: \"import/b\"\n",
      "attr {\n",
      "  key: \"T\"\n",
      "  value {\n",
      "    type: DT_FLOAT\n",
      "  }\n",
      "}\n",
      "attr {\n",
      "  key: \"_class\"\n",
      "  value {\n",
      "    list {\n",
      "      s: \"loc:@import/b\"\n",
      "    }\n",
      "  }\n",
      "}\n",
      "\n",
      "name: \"import/x\"\n",
      "op: \"Placeholder\"\n",
      "attr {\n",
      "  key: \"dtype\"\n",
      "  value {\n",
      "    type: DT_FLOAT\n",
      "  }\n",
      "}\n",
      "attr {\n",
      "  key: \"shape\"\n",
      "  value {\n",
      "    shape {\n",
      "    }\n",
      "  }\n",
      "}\n",
      "\n",
      "name: \"import/Mul\"\n",
      "op: \"Mul\"\n",
      "input: \"import/W/read\"\n",
      "input: \"import/x\"\n",
      "attr {\n",
      "  key: \"T\"\n",
      "  value {\n",
      "    type: DT_FLOAT\n",
      "  }\n",
      "}\n",
      "\n",
      "name: \"import/output\"\n",
      "op: \"Add\"\n",
      "input: \"import/Mul\"\n",
      "input: \"import/b/read\"\n",
      "attr {\n",
      "  key: \"T\"\n",
      "  value {\n",
      "    type: DT_FLOAT\n",
      "  }\n",
      "}\n",
      "\n",
      "name: \"import_1/W\"\n",
      "op: \"Const\"\n",
      "attr {\n",
      "  key: \"dtype\"\n",
      "  value {\n",
      "    type: DT_FLOAT\n",
      "  }\n",
      "}\n",
      "attr {\n",
      "  key: \"value\"\n",
      "  value {\n",
      "    tensor {\n",
      "      dtype: DT_FLOAT\n",
      "      tensor_shape {\n",
      "      }\n",
      "      float_val: 1.057468056678772\n",
      "    }\n",
      "  }\n",
      "}\n",
      "\n",
      "name: \"import_1/W/read\"\n",
      "op: \"Identity\"\n",
      "input: \"import_1/W\"\n",
      "attr {\n",
      "  key: \"T\"\n",
      "  value {\n",
      "    type: DT_FLOAT\n",
      "  }\n",
      "}\n",
      "attr {\n",
      "  key: \"_class\"\n",
      "  value {\n",
      "    list {\n",
      "      s: \"loc:@import_1/W\"\n",
      "    }\n",
      "  }\n",
      "}\n",
      "\n",
      "name: \"import_1/b\"\n",
      "op: \"Const\"\n",
      "attr {\n",
      "  key: \"dtype\"\n",
      "  value {\n",
      "    type: DT_FLOAT\n",
      "  }\n",
      "}\n",
      "attr {\n",
      "  key: \"value\"\n",
      "  value {\n",
      "    tensor {\n",
      "      dtype: DT_FLOAT\n",
      "      tensor_shape {\n",
      "      }\n",
      "      float_val: -0.23771463334560394\n",
      "    }\n",
      "  }\n",
      "}\n",
      "\n",
      "name: \"import_1/b/read\"\n",
      "op: \"Identity\"\n",
      "input: \"import_1/b\"\n",
      "attr {\n",
      "  key: \"T\"\n",
      "  value {\n",
      "    type: DT_FLOAT\n",
      "  }\n",
      "}\n",
      "attr {\n",
      "  key: \"_class\"\n",
      "  value {\n",
      "    list {\n",
      "      s: \"loc:@import_1/b\"\n",
      "    }\n",
      "  }\n",
      "}\n",
      "\n",
      "name: \"import_1/x\"\n",
      "op: \"Placeholder\"\n",
      "attr {\n",
      "  key: \"dtype\"\n",
      "  value {\n",
      "    type: DT_FLOAT\n",
      "  }\n",
      "}\n",
      "attr {\n",
      "  key: \"shape\"\n",
      "  value {\n",
      "    shape {\n",
      "    }\n",
      "  }\n",
      "}\n",
      "\n",
      "name: \"import_1/Mul\"\n",
      "op: \"Mul\"\n",
      "input: \"import_1/W/read\"\n",
      "input: \"import_1/x\"\n",
      "attr {\n",
      "  key: \"T\"\n",
      "  value {\n",
      "    type: DT_FLOAT\n",
      "  }\n",
      "}\n",
      "\n",
      "name: \"import_1/output\"\n",
      "op: \"Add\"\n",
      "input: \"import_1/Mul\"\n",
      "input: \"import_1/b/read\"\n",
      "attr {\n",
      "  key: \"T\"\n",
      "  value {\n",
      "    type: DT_FLOAT\n",
      "  }\n",
      "}\n",
      "\n",
      "0.819753\n"
     ]
    }
   ],
   "source": [
    "with tf.Session() as sess:\n",
    "    #gfile为TF里的一个文件读取工具，我们直接使用它\n",
    "    with tf.gfile.FastGFile(\"savedModel/02/model1.pb\",\"rb\") as gfile:\n",
    "        graph_def = tf.GraphDef()\n",
    "        graph_def.ParseFromString(gfile.read())\n",
    "        g_in = tf.import_graph_def(graph_def)\n",
    "    #可以通过这里查看所有的操作\n",
    "    for ope in sess.graph.get_operations():\n",
    "            print(ope)\n",
    "    #注意变量的名字增加了前缀import/，这可以在调用tf.import_graph_def()是指定参数name=\"\" 来更改     \n",
    "    x = sess.graph.get_operation_by_name('import/x')\n",
    "    #tensorflow中tensor的引用格式为 {operation_name}:{index}，表示由对应的操作产生的第index个输出，这里使用对应的输入输出名字来执行运行\n",
    "    print(sess.run('import/output:0',{'import/x:0':1.}))\n",
    "    \n",
    "\n"
   ]
  }
 ],
 "metadata": {
  "kernelspec": {
   "display_name": "Python 3",
   "language": "python",
   "name": "python3"
  },
  "language_info": {
   "codemirror_mode": {
    "name": "ipython",
    "version": 3
   },
   "file_extension": ".py",
   "mimetype": "text/x-python",
   "name": "python",
   "nbconvert_exporter": "python",
   "pygments_lexer": "ipython3",
   "version": "3.5.3"
  }
 },
 "nbformat": 4,
 "nbformat_minor": 2
}
