{
 "cells": [
  {
   "cell_type": "markdown",
   "metadata": {},
   "source": [
    "## 构建一个简单的CNN进行预测"
   ]
  },
  {
   "cell_type": "markdown",
   "metadata": {},
   "source": [
    "模型：\n",
    "1. 类型 尺寸/步长/数量 输入尺寸\n",
    "2. 卷积 5x5/1/32 28x28x1\n",
    "3. 池化 2x2/2/1  28x28x32\n",
    "4. 卷积 5x5/1/64 14x14x32\n",
    "5. 池化 2x2/2/1  14x14x64\n",
    "6. 全连接 7x7x64 X 1024\n",
    "7. relu\n",
    "8. dropout\n",
    "9. 全连接1024 X 10\n",
    "10. softmax"
   ]
  },
  {
   "cell_type": "code",
   "execution_count": 1,
   "metadata": {},
   "outputs": [
    {
     "name": "stdout",
     "output_type": "stream",
     "text": [
      "Extracting MNIST_data/train-images-idx3-ubyte.gz\n",
      "Extracting MNIST_data/train-labels-idx1-ubyte.gz\n",
      "Extracting MNIST_data/t10k-images-idx3-ubyte.gz\n",
      "Extracting MNIST_data/t10k-labels-idx1-ubyte.gz\n"
     ]
    }
   ],
   "source": [
    "import tensorflow as tf\n",
    "import numpy as np\n",
    "\n",
    "from tensorflow.examples.tutorials.mnist import input_data\n",
    "# import data\n",
    "mnist = input_data.read_data_sets(\"MNIST_data/\",one_hot=True)\n",
    "\n",
    "#test data\n",
    "testX = mnist.test.images\n",
    "testY = mnist.test.labels"
   ]
  },
  {
   "cell_type": "code",
   "execution_count": 2,
   "metadata": {
    "collapsed": true
   },
   "outputs": [],
   "source": [
    "#初始化权重\n",
    "def weight_variable(shape):\n",
    "    data = tf.truncated_normal(stddev=0.01,shape=shape)\n",
    "    return tf.Variable(data)\n",
    "\n",
    "#初始化偏置单元\n",
    "def bais_variable(shape):\n",
    "    data = tf.constant(0.01,shape=shape)\n",
    "    return tf.Variable(data)"
   ]
  },
  {
   "cell_type": "code",
   "execution_count": 3,
   "metadata": {
    "collapsed": true
   },
   "outputs": [],
   "source": [
    "#这里的padding=SAME参考https://www.tensorflow.org/api_guides/python/nn#Notes_on_SAME_Convolution_Padding\n",
    "#简易来说目的是为了使得卷积输出的size为原size除以步长的上取整\n",
    "#函数使用参见https://www.tensorflow.org/api_docs/python/tf/nn/conv2d\n",
    "#x为一个4维张量，[batch, in_height, in_width, in_channels]\n",
    "#W为一个4维张量，[filter_height, filter_width, in_channels, out_channels]\n",
    "def conv2d(x,W):\n",
    "    return tf.nn.conv2d(x,W,strides=[1,1,1,1],padding='SAME')\n",
    "\n",
    "def max_pool_2x2(x):\n",
    "    return tf.nn.max_pool(x,ksize=[1,2,2,1],strides=[1,2,2,1],padding='SAME')"
   ]
  },
  {
   "cell_type": "code",
   "execution_count": 4,
   "metadata": {
    "collapsed": true
   },
   "outputs": [],
   "source": [
    "x=tf.placeholder(tf.float32,[None,784])\n",
    "y=tf.placeholder(tf.float32,[None,10])\n",
    "x_image = tf.reshape(x,[-1,28,28,1])\n",
    "\n",
    "W1 = weight_variable([5,5,1,32])\n",
    "b1 = bais_variable([32])\n",
    "W2 = weight_variable([5,5,32,64])\n",
    "b2 = bais_variable([64])\n",
    "W3 = weight_variable([7*7*64,1024])\n",
    "b3 = bais_variable([1024])\n",
    "W4 = weight_variable([1024,10])\n",
    "b4 = bais_variable([10])\n",
    "\n",
    "keep_prob = tf.placeholder(tf.float32)"
   ]
  },
  {
   "cell_type": "code",
   "execution_count": 5,
   "metadata": {},
   "outputs": [],
   "source": [
    "h_conv1 = tf.nn.relu(conv2d(x_image,W1)+b1)\n",
    "h_pool1 = max_pool_2x2(h_conv1)\n",
    "\n",
    "h_conv2 = tf.nn.relu(conv2d(h_pool1,W2)+b2)\n",
    "h_pool2 = max_pool_2x2(h_conv2)\n",
    "\n",
    "x_pool2 = tf.reshape(h_pool2,[-1,64*7*7])\n",
    "fc = tf.nn.relu(tf.matmul(x_pool2,W3)+b3)\n",
    "\n",
    "fc_dropout = tf.nn.dropout(fc,keep_prob=keep_prob)\n",
    "\n",
    "model = tf.nn.softmax(tf.matmul(fc_dropout,W4)+b4)"
   ]
  },
  {
   "cell_type": "code",
   "execution_count": 6,
   "metadata": {
    "collapsed": true
   },
   "outputs": [],
   "source": [
    "loss = tf.reduce_mean(-tf.reduce_sum(y*tf.log(model),reduction_indices=[1]))\n",
    "\n",
    "train_step = tf.train.AdamOptimizer(1e-4).minimize(loss)\n",
    "\n",
    "correct_prediction = tf.equal(tf.argmax(y,1),tf.argmax(model,1))\n",
    "accuracy = tf.reduce_mean(tf.cast(correct_prediction,tf.float32))"
   ]
  },
  {
   "cell_type": "code",
   "execution_count": 8,
   "metadata": {},
   "outputs": [
    {
     "name": "stdout",
     "output_type": "stream",
     "text": [
      "step 0:loss=2.302,accuracy=0.101\n",
      "step 100:loss=0.913,accuracy=0.737\n",
      "step 200:loss=0.451,accuracy=0.865\n",
      "step 300:loss=0.350,accuracy=0.901\n",
      "step 400:loss=0.295,accuracy=0.915\n",
      "step 500:loss=0.263,accuracy=0.919\n",
      "step 600:loss=0.238,accuracy=0.926\n",
      "step 700:loss=0.216,accuracy=0.934\n",
      "step 800:loss=0.192,accuracy=0.941\n",
      "step 900:loss=0.172,accuracy=0.947\n",
      "step 1000:loss=0.170,accuracy=0.947\n",
      "step 1100:loss=0.158,accuracy=0.952\n",
      "step 1200:loss=0.130,accuracy=0.961\n",
      "step 1300:loss=0.129,accuracy=0.961\n",
      "step 1400:loss=0.117,accuracy=0.963\n",
      "step 1500:loss=0.120,accuracy=0.964\n",
      "step 1600:loss=0.108,accuracy=0.966\n",
      "step 1700:loss=0.102,accuracy=0.968\n",
      "step 1800:loss=0.093,accuracy=0.972\n",
      "step 1900:loss=0.092,accuracy=0.971\n",
      "step 2000:loss=0.085,accuracy=0.974\n",
      "step 2100:loss=0.090,accuracy=0.973\n",
      "step 2200:loss=0.083,accuracy=0.975\n",
      "step 2300:loss=0.075,accuracy=0.978\n",
      "step 2400:loss=0.072,accuracy=0.977\n",
      "step 2500:loss=0.072,accuracy=0.978\n",
      "step 2600:loss=0.078,accuracy=0.976\n",
      "step 2700:loss=0.068,accuracy=0.978\n",
      "step 2800:loss=0.069,accuracy=0.977\n",
      "step 2900:loss=0.068,accuracy=0.978\n",
      "step 3000:loss=0.070,accuracy=0.977\n",
      "step 3100:loss=0.058,accuracy=0.982\n",
      "step 3200:loss=0.062,accuracy=0.982\n",
      "step 3300:loss=0.060,accuracy=0.980\n",
      "step 3400:loss=0.053,accuracy=0.983\n",
      "step 3500:loss=0.054,accuracy=0.982\n",
      "step 3600:loss=0.060,accuracy=0.978\n",
      "step 3700:loss=0.051,accuracy=0.983\n",
      "step 3800:loss=0.054,accuracy=0.982\n",
      "step 3900:loss=0.056,accuracy=0.982\n",
      "step 4000:loss=0.048,accuracy=0.985\n",
      "step 4100:loss=0.049,accuracy=0.983\n",
      "step 4200:loss=0.051,accuracy=0.983\n",
      "step 4300:loss=0.046,accuracy=0.984\n",
      "step 4400:loss=0.044,accuracy=0.985\n",
      "step 4500:loss=0.048,accuracy=0.984\n",
      "step 4600:loss=0.047,accuracy=0.984\n",
      "step 4700:loss=0.049,accuracy=0.983\n",
      "step 4800:loss=0.043,accuracy=0.985\n",
      "step 4900:loss=0.045,accuracy=0.985\n",
      "step 5000:loss=0.042,accuracy=0.985\n",
      "step 5100:loss=0.047,accuracy=0.985\n",
      "step 5200:loss=0.052,accuracy=0.982\n",
      "step 5300:loss=0.043,accuracy=0.986\n",
      "step 5400:loss=0.041,accuracy=0.985\n",
      "step 5500:loss=0.044,accuracy=0.985\n",
      "step 5600:loss=0.043,accuracy=0.987\n",
      "step 5700:loss=0.047,accuracy=0.986\n",
      "step 5800:loss=0.043,accuracy=0.985\n",
      "step 5900:loss=0.039,accuracy=0.986\n",
      "step 6000:loss=0.036,accuracy=0.987\n",
      "step 6100:loss=0.041,accuracy=0.986\n",
      "step 6200:loss=0.039,accuracy=0.988\n",
      "step 6300:loss=0.039,accuracy=0.987\n",
      "step 6400:loss=0.036,accuracy=0.988\n",
      "step 6500:loss=0.040,accuracy=0.987\n",
      "step 6600:loss=0.035,accuracy=0.988\n",
      "step 6700:loss=0.037,accuracy=0.988\n",
      "step 6800:loss=0.036,accuracy=0.989\n",
      "step 6900:loss=0.037,accuracy=0.988\n",
      "step 7000:loss=0.037,accuracy=0.989\n",
      "step 7100:loss=0.031,accuracy=0.990\n",
      "step 7200:loss=0.036,accuracy=0.988\n",
      "step 7300:loss=0.039,accuracy=0.987\n",
      "step 7400:loss=0.039,accuracy=0.987\n",
      "step 7500:loss=0.032,accuracy=0.989\n",
      "step 7600:loss=0.033,accuracy=0.989\n",
      "step 7700:loss=0.037,accuracy=0.987\n",
      "step 7800:loss=0.035,accuracy=0.988\n",
      "step 7900:loss=0.038,accuracy=0.986\n",
      "step 8000:loss=0.037,accuracy=0.988\n",
      "step 8100:loss=0.033,accuracy=0.989\n",
      "step 8200:loss=0.036,accuracy=0.988\n",
      "step 8300:loss=0.035,accuracy=0.989\n",
      "step 8400:loss=0.031,accuracy=0.990\n",
      "step 8500:loss=0.035,accuracy=0.988\n",
      "step 8600:loss=0.035,accuracy=0.988\n",
      "step 8700:loss=0.033,accuracy=0.990\n",
      "step 8800:loss=0.032,accuracy=0.988\n",
      "step 8900:loss=0.029,accuracy=0.990\n",
      "step 9000:loss=0.028,accuracy=0.991\n",
      "step 9100:loss=0.028,accuracy=0.991\n",
      "step 9200:loss=0.032,accuracy=0.990\n",
      "step 9300:loss=0.030,accuracy=0.990\n",
      "step 9400:loss=0.030,accuracy=0.990\n",
      "step 9500:loss=0.034,accuracy=0.989\n",
      "step 9600:loss=0.028,accuracy=0.990\n",
      "step 9700:loss=0.032,accuracy=0.989\n",
      "step 9800:loss=0.034,accuracy=0.988\n",
      "step 9900:loss=0.034,accuracy=0.988\n"
     ]
    }
   ],
   "source": [
    "sess = tf.InteractiveSession()\n",
    "tf.global_variables_initializer().run()\n",
    "for i in range(10000):\n",
    "    batch_x,batch_y = mnist.train.next_batch(50)\n",
    "    sess.run(train_step,feed_dict={x:batch_x,y:batch_y,keep_prob:0.75})\n",
    "    if i%100==0:\n",
    "        c,a = sess.run([loss,accuracy],feed_dict={x:testX,y:testY,keep_prob:1.})\n",
    "        print(\"step %d:loss=%.3f,accuracy=%.3f\"%(i,c,a))"
   ]
  },
  {
   "cell_type": "code",
   "execution_count": null,
   "metadata": {
    "collapsed": true
   },
   "outputs": [],
   "source": []
  }
 ],
 "metadata": {
  "kernelspec": {
   "display_name": "tensorflow-kernel",
   "language": "python",
   "name": "tensorflow-kernel"
  },
  "language_info": {
   "codemirror_mode": {
    "name": "ipython",
    "version": 3
   },
   "file_extension": ".py",
   "mimetype": "text/x-python",
   "name": "python",
   "nbconvert_exporter": "python",
   "pygments_lexer": "ipython3",
   "version": "3.5.4"
  }
 },
 "nbformat": 4,
 "nbformat_minor": 2
}
